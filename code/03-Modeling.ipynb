{
 "cells": [
  {
   "cell_type": "markdown",
   "metadata": {},
   "source": [
    "### Modeling"
   ]
  },
  {
   "cell_type": "code",
   "execution_count": 39,
   "metadata": {},
   "outputs": [],
   "source": [
    "#grab the train/test splits from the Pre-processing notebook\n",
    "%store -r"
   ]
  },
  {
   "cell_type": "code",
   "execution_count": 2,
   "metadata": {},
   "outputs": [],
   "source": [
    "#imports\n",
    "import numpy as np\n",
    "import pandas as pd\n",
    "import matplotlib.pyplot as plt\n",
    "from sklearn.model_selection import train_test_split, GridSearchCV\n",
    "from sklearn.pipeline import Pipeline\n",
    "from sklearn.naive_bayes import MultinomialNB\n",
    "from sklearn.linear_model import LogisticRegression\n",
    "from sklearn.metrics import confusion_matrix, plot_confusion_matrix\n",
    "from sklearn.feature_extraction.text import CountVectorizer, TfidfVectorizer\n",
    "from sklearn.ensemble import RandomForestClassifier, ExtraTreesClassifier\n",
    "from sklearn.svm import LinearSVC, SVC"
   ]
  },
  {
   "cell_type": "code",
   "execution_count": 3,
   "metadata": {},
   "outputs": [],
   "source": [
    "model_params = {}\n",
    "count = 1"
   ]
  },
  {
   "cell_type": "code",
   "execution_count": 4,
   "metadata": {},
   "outputs": [],
   "source": [
    "#calculate scores and build the dataframe that we learned in class, SO helpful patrick!\n",
    "def scoring(X_test,y_test,model,count):\n",
    "    preds = model.predict(X_test)\n",
    "    tn, fp, fn, tp = confusion_matrix(y_test, preds).ravel()\n",
    "    plot_confusion_matrix(model, X_test, y_test, cmap='Purples', values_format='d')\n",
    "    plt.title(f\"Confustion Matrix \")\n",
    "    specificity = tn / (tn + fp)\n",
    "    sensitivity = tp / (tp + fn)\n",
    "    misclassified = (fp+fn)/(tn+tp+fn+fp)\n",
    "    grid.best_params_['score'] = grid.best_score_\n",
    "    grid.best_params_['specificity'] = round((specificity *100),2)\n",
    "    grid.best_params_['sensitivity'] = round((sensitivity *100),2)\n",
    "    grid.best_params_['misclassification_rate'] = round(misclassified * 100,2)\n",
    "    grid.best_params_['misclassified_rows'] = np.where(y_test != grid.predict(X_test))\n",
    "    model_params[f'model_{count}'] = grid.best_params_\n",
    "    model_df = pd.DataFrame.from_dict(model_params, orient='index')\n",
    "    \n",
    "    print(f'model_{count}')\n",
    "    return model_df"
   ]
  },
  {
   "cell_type": "code",
   "execution_count": 64,
   "metadata": {},
   "outputs": [
    {
     "name": "stdout",
     "output_type": "stream",
     "text": [
      "Fitting 5 folds for each of 24 candidates, totalling 120 fits\n"
     ]
    },
    {
     "name": "stderr",
     "output_type": "stream",
     "text": [
      "[Parallel(n_jobs=1)]: Using backend SequentialBackend with 1 concurrent workers.\n",
      "[Parallel(n_jobs=1)]: Done 120 out of 120 | elapsed:   10.4s finished\n"
     ]
    },
    {
     "name": "stdout",
     "output_type": "stream",
     "text": [
      "model_11\n",
      "model_11\n",
      "CPU times: user 10.5 s, sys: 186 ms, total: 10.6 s\n",
      "Wall time: 10.7 s\n"
     ]
    },
    {
     "data": {
      "text/html": [
       "<div>\n",
       "<style scoped>\n",
       "    .dataframe tbody tr th:only-of-type {\n",
       "        vertical-align: middle;\n",
       "    }\n",
       "\n",
       "    .dataframe tbody tr th {\n",
       "        vertical-align: top;\n",
       "    }\n",
       "\n",
       "    .dataframe thead th {\n",
       "        text-align: right;\n",
       "    }\n",
       "</style>\n",
       "<table border=\"1\" class=\"dataframe\">\n",
       "  <thead>\n",
       "    <tr style=\"text-align: right;\">\n",
       "      <th></th>\n",
       "      <th>actual</th>\n",
       "      <th>predicted</th>\n",
       "    </tr>\n",
       "  </thead>\n",
       "  <tbody>\n",
       "    <tr>\n",
       "      <th>2922</th>\n",
       "      <td>0</td>\n",
       "      <td>0</td>\n",
       "    </tr>\n",
       "    <tr>\n",
       "      <th>1407</th>\n",
       "      <td>0</td>\n",
       "      <td>0</td>\n",
       "    </tr>\n",
       "    <tr>\n",
       "      <th>5513</th>\n",
       "      <td>1</td>\n",
       "      <td>0</td>\n",
       "    </tr>\n",
       "    <tr>\n",
       "      <th>5352</th>\n",
       "      <td>1</td>\n",
       "      <td>1</td>\n",
       "    </tr>\n",
       "    <tr>\n",
       "      <th>7639</th>\n",
       "      <td>1</td>\n",
       "      <td>1</td>\n",
       "    </tr>\n",
       "    <tr>\n",
       "      <th>...</th>\n",
       "      <td>...</td>\n",
       "      <td>...</td>\n",
       "    </tr>\n",
       "    <tr>\n",
       "      <th>913</th>\n",
       "      <td>0</td>\n",
       "      <td>0</td>\n",
       "    </tr>\n",
       "    <tr>\n",
       "      <th>6059</th>\n",
       "      <td>1</td>\n",
       "      <td>1</td>\n",
       "    </tr>\n",
       "    <tr>\n",
       "      <th>8618</th>\n",
       "      <td>1</td>\n",
       "      <td>1</td>\n",
       "    </tr>\n",
       "    <tr>\n",
       "      <th>8783</th>\n",
       "      <td>1</td>\n",
       "      <td>1</td>\n",
       "    </tr>\n",
       "    <tr>\n",
       "      <th>3641</th>\n",
       "      <td>0</td>\n",
       "      <td>0</td>\n",
       "    </tr>\n",
       "  </tbody>\n",
       "</table>\n",
       "<p>3300 rows × 2 columns</p>\n",
       "</div>"
      ],
      "text/plain": [
       "      actual  predicted\n",
       "2922       0          0\n",
       "1407       0          0\n",
       "5513       1          0\n",
       "5352       1          1\n",
       "7639       1          1\n",
       "...      ...        ...\n",
       "913        0          0\n",
       "6059       1          1\n",
       "8618       1          1\n",
       "8783       1          1\n",
       "3641       0          0\n",
       "\n",
       "[3300 rows x 2 columns]"
      ]
     },
     "execution_count": 64,
     "metadata": {},
     "output_type": "execute_result"
    },
    {
     "data": {
      "image/png": "[encoded data removed]",
      "text/plain": [
       "<Figure size 432x288 with 2 Axes>"
      ]
     },
     "metadata": {
      "needs_background": "light"
     },
     "output_type": "display_data"
    }
   ],
   "source": [
    "%%time\n",
    "#Start with a Multinomial Naive Bayes using a pipeline and gridsearching, like leson 5.04\n",
    "pipe = Pipeline([\n",
    "    ('vectorizer', CountVectorizer()),\n",
    "    ('MultiNB', MultinomialNB()),\n",
    "])\n",
    "pipe_params = {\n",
    "    'vectorizer__max_features' :[2000,2500,3000,3250],\n",
    "    'vectorizer__min_df' : [1],\n",
    "    'vectorizer__max_df' : [.7,.75,.8,],\n",
    "    'vectorizer__stop_words' : [None, 'english'],\n",
    "    'vectorizer__ngram_range' :[(1,1)]\n",
    "}\n",
    "grid = GridSearchCV(estimator = pipe,\n",
    "                   param_grid = pipe_params,\n",
    "                   cv = 5,\n",
    "                   verbose = 1)\n",
    "\n",
    "\n",
    "grid.fit(X_train,y_train)\n",
    "print(f'model_{count}')\n",
    "model_df =scoring(X_test,y_test,grid,count)\n",
    "count+=1\n",
    "y_preds = pd.DataFrame()\n",
    "y_preds['actual']=y_test\n",
    "y_preds['predicted']=grid.predict(X_test)\n",
    "y_preds"
   ]
  },
  {
   "cell_type": "code",
   "execution_count": null,
   "metadata": {},
   "outputs": [],
   "source": []
  },
  {
   "cell_type": "code",
   "execution_count": 6,
   "metadata": {},
   "outputs": [
    {
     "name": "stdout",
     "output_type": "stream",
     "text": [
      "Fitting 5 folds for each of 162 candidates, totalling 810 fits\n"
     ]
    },
    {
     "name": "stderr",
     "output_type": "stream",
     "text": [
      "[Parallel(n_jobs=1)]: Using backend SequentialBackend with 1 concurrent workers.\n",
      "[Parallel(n_jobs=1)]: Done 810 out of 810 | elapsed:  1.8min finished\n"
     ]
    },
    {
     "name": "stdout",
     "output_type": "stream",
     "text": [
      "model_2\n",
      "model_2\n",
      "CPU times: user 1min 45s, sys: 1.3 s, total: 1min 47s\n",
      "Wall time: 1min 48s\n"
     ]
    },
    {
     "data": {
      "image/png": "[encoded data removed]",
      "text/plain": [
       "<Figure size 432x288 with 2 Axes>"
      ]
     },
     "metadata": {
      "needs_background": "light"
     },
     "output_type": "display_data"
    }
   ],
   "source": [
    "%%time\n",
    "#let's try the NB model with Tfidif\n",
    "pipe = Pipeline([\n",
    "    ('tvec', TfidfVectorizer()),\n",
    "    ('MultiNB', MultinomialNB()),\n",
    "])\n",
    "pipe_params = {\n",
    "    'tvec__max_features' : [5000,6000,7000],\n",
    "    'tvec__ngram_range' : [ (1,1),(1,2),(2,2)],\n",
    "    'tvec__stop_words' : ['english', None],\n",
    "    'tvec__max_df' : [.85,.95,.97],\n",
    "    'tvec__min_df' : [1,2,4]\n",
    "}\n",
    "grid = GridSearchCV(estimator = pipe,\n",
    "                   param_grid = pipe_params,\n",
    "                   cv = 5,\n",
    "                   verbose = 1)\n",
    "\n",
    "\n",
    "grid.fit(X_train,y_train)\n",
    "print(f'model_{count}')\n",
    "model_df = scoring(X_test,y_test,grid,count)\n",
    "count+=1"
   ]
  },
  {
   "cell_type": "code",
   "execution_count": 7,
   "metadata": {},
   "outputs": [
    {
     "name": "stdout",
     "output_type": "stream",
     "text": [
      "Fitting 5 folds for each of 162 candidates, totalling 810 fits\n"
     ]
    },
    {
     "name": "stderr",
     "output_type": "stream",
     "text": [
      "[Parallel(n_jobs=1)]: Using backend SequentialBackend with 1 concurrent workers.\n",
      "[Parallel(n_jobs=1)]: Done 810 out of 810 | elapsed:  3.2min finished\n"
     ]
    },
    {
     "name": "stdout",
     "output_type": "stream",
     "text": [
      "model_3\n",
      "model_3\n",
      "CPU times: user 3min 6s, sys: 2.45 s, total: 3min 8s\n",
      "Wall time: 3min 12s\n"
     ]
    },
    {
     "data": {
      "image/png": "[encoded data removed]",
      "text/plain": [
       "<Figure size 432x288 with 2 Axes>"
      ]
     },
     "metadata": {
      "needs_background": "light"
     },
     "output_type": "display_data"
    }
   ],
   "source": [
    "%%time\n",
    "#trying the Logistic Regression again with countvectorizer\n",
    "pipe = Pipeline([\n",
    "    ('vectorizer', CountVectorizer()),\n",
    "    ('lr', LogisticRegression())\n",
    "])\n",
    "pipe_params = {\n",
    "    'vectorizer__max_features' :[2000,3000,3250],\n",
    "    'vectorizer__min_df' : [1,2,3],\n",
    "    'vectorizer__max_df' : [.7,.75,.8,],\n",
    "    'vectorizer__stop_words' : [None, 'english'],\n",
    "    'vectorizer__ngram_range' :[(1,1),(1,2),(1,3)]\n",
    "}\n",
    "grid = GridSearchCV(estimator = pipe,\n",
    "                   param_grid = pipe_params,\n",
    "                   cv = 5,\n",
    "                   verbose = 1)\n",
    "\n",
    "grid.fit(X_train,y_train)\n",
    "print(f'model_{count}')\n",
    "\n",
    "model_df = scoring(X_test,y_test,grid,count)\n",
    "count+=1"
   ]
  },
  {
   "cell_type": "code",
   "execution_count": 8,
   "metadata": {},
   "outputs": [
    {
     "name": "stdout",
     "output_type": "stream",
     "text": [
      "Fitting 5 folds for each of 162 candidates, totalling 810 fits\n"
     ]
    },
    {
     "name": "stderr",
     "output_type": "stream",
     "text": [
      "[Parallel(n_jobs=1)]: Using backend SequentialBackend with 1 concurrent workers.\n",
      "[Parallel(n_jobs=1)]: Done 810 out of 810 | elapsed:  2.4min finished\n"
     ]
    },
    {
     "name": "stdout",
     "output_type": "stream",
     "text": [
      "model_4\n",
      "model_4\n",
      "CPU times: user 2min 19s, sys: 1.57 s, total: 2min 20s\n",
      "Wall time: 2min 23s\n"
     ]
    },
    {
     "data": {
      "image/png": "[encoded data removed]",
      "text/plain": [
       "<Figure size 432x288 with 2 Axes>"
      ]
     },
     "metadata": {
      "needs_background": "light"
     },
     "output_type": "display_data"
    }
   ],
   "source": [
    "%%time\n",
    "#let's try a logistic regression with tvec\n",
    "pipe = Pipeline([\n",
    "    ('tvec', TfidfVectorizer()),\n",
    "    ('lr', LogisticRegression())\n",
    "])\n",
    "pipe_params = {\n",
    "    'tvec__max_features' : [5000,6000,7000],\n",
    "    'tvec__ngram_range' : [ (1,1),(1,2),(2,2)],\n",
    "    'tvec__stop_words' : ['english', None],\n",
    "    'tvec__max_df' : [.85,.95,.97],\n",
    "    'tvec__min_df' : [1,2,4]\n",
    "}\n",
    "grid = GridSearchCV(estimator = pipe,\n",
    "                   param_grid = pipe_params,\n",
    "                   cv = 5,\n",
    "                   verbose = 1)\n",
    "\n",
    "\n",
    "grid.fit(X_train,y_train)\n",
    "print(f'model_{count}')\n",
    "\n",
    "model_df =scoring(X_test,y_test,grid,count)\n",
    "count+=1"
   ]
  },
  {
   "cell_type": "code",
   "execution_count": 9,
   "metadata": {},
   "outputs": [
    {
     "name": "stdout",
     "output_type": "stream",
     "text": [
      "Fitting 5 folds for each of 243 candidates, totalling 1215 fits\n"
     ]
    },
    {
     "name": "stderr",
     "output_type": "stream",
     "text": [
      "[Parallel(n_jobs=4)]: Using backend LokyBackend with 4 concurrent workers.\n",
      "[Parallel(n_jobs=4)]: Done  42 tasks      | elapsed:   14.0s\n",
      "[Parallel(n_jobs=4)]: Done 192 tasks      | elapsed:   47.3s\n",
      "[Parallel(n_jobs=4)]: Done 442 tasks      | elapsed:  1.8min\n",
      "[Parallel(n_jobs=4)]: Done 792 tasks      | elapsed:  3.1min\n",
      "[Parallel(n_jobs=4)]: Done 1215 out of 1215 | elapsed:  4.7min finished\n"
     ]
    },
    {
     "name": "stdout",
     "output_type": "stream",
     "text": [
      "model_5\n",
      "model_5\n"
     ]
    },
    {
     "data": {
      "image/png": "[encoded data removed]",
      "text/plain": [
       "<Figure size 432x288 with 2 Axes>"
      ]
     },
     "metadata": {
      "needs_background": "light"
     },
     "output_type": "display_data"
    }
   ],
   "source": [
    "\n",
    "#checking out random forest\n",
    "\n",
    "pipe = Pipeline([\n",
    "    ('vectorizer', CountVectorizer()),\n",
    "    ('rf', RandomForestClassifier())\n",
    "])\n",
    "\n",
    "params = {\n",
    "    'vectorizer__max_features' :[2000,3000,4000],\n",
    "    'rf__n_estimators' : [50, 75, 100],\n",
    "    'rf__max_features' : [None,'auto', 'log2'],\n",
    "    'rf__max_depth' : [3, 5, 7],\n",
    "    'rf__ccp_alpha' : [0,0.01,0.1]\n",
    "}\n",
    "grid = GridSearchCV(estimator = pipe, \n",
    "                    param_grid = params, \n",
    "                    cv = 5,\n",
    "                    verbose = 1,\n",
    "                    n_jobs = 4)\n",
    "\n",
    "\n",
    "grid.fit(X_train, y_train)\n",
    "print(f'model_{count}')\n",
    "\n",
    "\n",
    "model_df = scoring(X_test,y_test,grid,count)\n",
    "count+=1\n"
   ]
  },
  {
   "cell_type": "code",
   "execution_count": 14,
   "metadata": {},
   "outputs": [
    {
     "name": "stdout",
     "output_type": "stream",
     "text": [
      "Fitting 5 folds for each of 2187 candidates, totalling 10935 fits\n"
     ]
    },
    {
     "name": "stderr",
     "output_type": "stream",
     "text": [
      "[Parallel(n_jobs=4)]: Using backend LokyBackend with 4 concurrent workers.\n",
      "[Parallel(n_jobs=4)]: Done  42 tasks      | elapsed:   21.7s\n",
      "[Parallel(n_jobs=4)]: Done 192 tasks      | elapsed:  1.8min\n",
      "[Parallel(n_jobs=4)]: Done 442 tasks      | elapsed:  4.7min\n",
      "[Parallel(n_jobs=4)]: Done 792 tasks      | elapsed:  5.8min\n",
      "[Parallel(n_jobs=4)]: Done 1242 tasks      | elapsed:  7.7min\n",
      "[Parallel(n_jobs=4)]: Done 1792 tasks      | elapsed: 14.5min\n",
      "[Parallel(n_jobs=4)]: Done 2442 tasks      | elapsed: 16.4min\n",
      "[Parallel(n_jobs=4)]: Done 3192 tasks      | elapsed: 24.4min\n",
      "[Parallel(n_jobs=4)]: Done 4042 tasks      | elapsed: 29.2min\n",
      "[Parallel(n_jobs=4)]: Done 4992 tasks      | elapsed: 32.5min\n",
      "[Parallel(n_jobs=4)]: Done 6042 tasks      | elapsed: 38.7min\n",
      "[Parallel(n_jobs=4)]: Done 7192 tasks      | elapsed: 49.6min\n",
      "[Parallel(n_jobs=4)]: Done 8442 tasks      | elapsed: 55.8min\n",
      "[Parallel(n_jobs=4)]: Done 9792 tasks      | elapsed: 65.0min\n",
      "[Parallel(n_jobs=4)]: Done 10935 out of 10935 | elapsed: 74.3min finished\n"
     ]
    },
    {
     "name": "stdout",
     "output_type": "stream",
     "text": [
      "model_6\n",
      "model_6\n"
     ]
    },
    {
     "data": {
      "image/png": "[encoded data removed]",
      "text/plain": [
       "<Figure size 432x288 with 2 Axes>"
      ]
     },
     "metadata": {
      "needs_background": "light"
     },
     "output_type": "display_data"
    }
   ],
   "source": [
    "\n",
    "#checking out random forest but with tfid\n",
    "\n",
    "pipe = Pipeline([\n",
    "    ('tvec', TfidfVectorizer()),\n",
    "    ('rf', RandomForestClassifier())\n",
    "])\n",
    "\n",
    "params = {\n",
    "    'tvec__max_features' : [5000,6000,7000],\n",
    "    'tvec__max_df' : [.85,.95,1.0],\n",
    "    'tvec__min_df' : [1,2,4],\n",
    "    'rf__n_estimators' : [50, 75, 100],\n",
    "    'rf__max_features' : [None,'auto', 'log2'],\n",
    "    'rf__max_depth' : [3, 5, 7],\n",
    "    'rf__ccp_alpha' : [0,0.01,0.1]\n",
    "}\n",
    "grid = GridSearchCV(estimator = pipe, \n",
    "                    param_grid = params, \n",
    "                    cv = 5,\n",
    "                    verbose = 1,\n",
    "                    n_jobs = 4)\n",
    "\n",
    "\n",
    "grid.fit(X_train, y_train)\n",
    "print(f'model_{count}')\n",
    "\n",
    "\n",
    "model_df = scoring(X_test,y_test,grid,count)\n",
    "count+=1\n"
   ]
  },
  {
   "cell_type": "code",
   "execution_count": 15,
   "metadata": {},
   "outputs": [
    {
     "name": "stdout",
     "output_type": "stream",
     "text": [
      "Fitting 5 folds for each of 144 candidates, totalling 720 fits\n"
     ]
    },
    {
     "name": "stderr",
     "output_type": "stream",
     "text": [
      "[Parallel(n_jobs=1)]: Using backend SequentialBackend with 1 concurrent workers.\n",
      "[Parallel(n_jobs=1)]: Done 720 out of 720 | elapsed:  1.9min finished\n"
     ]
    },
    {
     "name": "stdout",
     "output_type": "stream",
     "text": [
      "model_7\n",
      "model_7\n",
      "CPU times: user 1min 43s, sys: 2.16 s, total: 1min 45s\n",
      "Wall time: 1min 55s\n"
     ]
    },
    {
     "data": {
      "image/png": "[encoded data removed]",
      "text/plain": [
       "<Figure size 432x288 with 2 Axes>"
      ]
     },
     "metadata": {
      "needs_background": "light"
     },
     "output_type": "display_data"
    }
   ],
   "source": [
    "%%time\n",
    "#trying Linear SVC\n",
    "pipe = Pipeline([\n",
    "    ('vectorizer', CountVectorizer()),\n",
    "    ('svc', (LinearSVC()))\n",
    "])\n",
    "pipe_params = {\n",
    "    'vectorizer__max_features' :[2000,3000,4000],\n",
    "    'vectorizer__min_df' : [1,2],\n",
    "    'vectorizer__max_df' : [.8,.9],\n",
    "    'vectorizer__stop_words' : [None, 'english'],\n",
    "    'vectorizer__ngram_range' :[(1,1),(2,2)],\n",
    "    'svc__C': [.001,.01,1]\n",
    "\n",
    "}\n",
    "\n",
    "grid = GridSearchCV(estimator = pipe,\n",
    "                   param_grid = pipe_params,\n",
    "                   cv = 5,\n",
    "                   verbose = 1)\n",
    "\n",
    "grid.fit(X_train,y_train)\n",
    "print(f'model_{count}')\n",
    "\n",
    "model_df = scoring(X_test,y_test,grid,count)\n",
    "count+=1"
   ]
  },
  {
   "cell_type": "code",
   "execution_count": 16,
   "metadata": {},
   "outputs": [
    {
     "name": "stdout",
     "output_type": "stream",
     "text": [
      "Fitting 5 folds for each of 81 candidates, totalling 405 fits\n"
     ]
    },
    {
     "name": "stderr",
     "output_type": "stream",
     "text": [
      "[Parallel(n_jobs=1)]: Using backend SequentialBackend with 1 concurrent workers.\n",
      "[Parallel(n_jobs=1)]: Done 405 out of 405 | elapsed:  1.2min finished\n"
     ]
    },
    {
     "name": "stdout",
     "output_type": "stream",
     "text": [
      "model_8\n",
      "model_8\n",
      "CPU times: user 54.5 s, sys: 1.62 s, total: 56.1 s\n",
      "Wall time: 1min 14s\n"
     ]
    },
    {
     "data": {
      "image/png": "[encoded data removed]",
      "text/plain": [
       "<Figure size 432x288 with 2 Axes>"
      ]
     },
     "metadata": {
      "needs_background": "light"
     },
     "output_type": "display_data"
    }
   ],
   "source": [
    "%%time\n",
    "#trying the Logistic Regression again but adjusting the max_df parameter since it was on the edge\n",
    "pipe = Pipeline([\n",
    "    ('tvec', TfidfVectorizer()),\n",
    "    ('svc', (LinearSVC()))\n",
    "])\n",
    "pipe_params = {\n",
    "    'tvec__max_features' : [5000,6000,7000],\n",
    "    'tvec__max_df' : [.85,.95,1.0],\n",
    "    'tvec__min_df' : [1,2,4],\n",
    "    'svc__C': [.001,.01,1]\n",
    "}\n",
    "\n",
    "\n",
    "grid = GridSearchCV(estimator = pipe,\n",
    "                   param_grid = pipe_params,\n",
    "                   cv = 5,\n",
    "                   verbose = 1)\n",
    "\n",
    "grid.fit(X_train,y_train)\n",
    "print(f'model_{count}')\n",
    "\n",
    "model_df = scoring(X_test,y_test,grid,count)\n",
    "count+=1"
   ]
  },
  {
   "cell_type": "code",
   "execution_count": 18,
   "metadata": {},
   "outputs": [
    {
     "name": "stdout",
     "output_type": "stream",
     "text": [
      "Fitting 5 folds for each of 288 candidates, totalling 1440 fits\n"
     ]
    },
    {
     "name": "stderr",
     "output_type": "stream",
     "text": [
      "[Parallel(n_jobs=4)]: Using backend LokyBackend with 4 concurrent workers.\n",
      "[Parallel(n_jobs=4)]: Done  33 tasks      | elapsed:   22.6s\n",
      "[Parallel(n_jobs=4)]: Done 154 tasks      | elapsed:  1.4min\n",
      "[Parallel(n_jobs=4)]: Done 357 tasks      | elapsed:  3.1min\n",
      "[Parallel(n_jobs=4)]: Done 640 tasks      | elapsed:  7.8min\n",
      "[Parallel(n_jobs=4)]: Done 1005 tasks      | elapsed: 11.7min\n",
      "[Parallel(n_jobs=4)]: Done 1440 out of 1440 | elapsed: 18.6min finished\n"
     ]
    },
    {
     "name": "stdout",
     "output_type": "stream",
     "text": [
      "model_9\n",
      "model_9\n",
      "CPU times: user 11.7 s, sys: 1.77 s, total: 13.4 s\n",
      "Wall time: 18min 39s\n"
     ]
    },
    {
     "data": {
      "image/png": "[encoded data removed]",
      "text/plain": [
       "<Figure size 432x288 with 2 Axes>"
      ]
     },
     "metadata": {
      "needs_background": "light"
     },
     "output_type": "display_data"
    }
   ],
   "source": [
    "%%time\n",
    "#trying the svc model\n",
    "pipe = Pipeline([\n",
    "    ('vectorizer', CountVectorizer()),\n",
    "    ('svc', SVC())\n",
    "])\n",
    "pipe_params = {\n",
    "    'vectorizer__max_features' :[2000,3000,4000],\n",
    "    'vectorizer__min_df' : [1,2],\n",
    "    'vectorizer__max_df' : [.8,.9],\n",
    "    'vectorizer__stop_words' : [None, 'english'],\n",
    "    'vectorizer__ngram_range' :[(1,1),(1,2),(1,3)],\n",
    "    'svc__kernel':['linear', 'rbf'],\n",
    "    'svc__degree':[1, 2]}\n",
    "\n",
    "\n",
    "grid = GridSearchCV(estimator = pipe,\n",
    "                   param_grid = pipe_params,\n",
    "                   cv = 5,\n",
    "                   n_jobs = 4,\n",
    "                   verbose =2)\n",
    "\n",
    "grid.fit(X_train,y_train)\n",
    "print(f'model_{count}')\n",
    "\n",
    "model_df = scoring(X_test,y_test,grid,count)\n",
    "count+=1"
   ]
  },
  {
   "cell_type": "code",
   "execution_count": 19,
   "metadata": {},
   "outputs": [
    {
     "name": "stdout",
     "output_type": "stream",
     "text": [
      "Fitting 5 folds for each of 108 candidates, totalling 540 fits\n"
     ]
    },
    {
     "name": "stderr",
     "output_type": "stream",
     "text": [
      "[Parallel(n_jobs=4)]: Using backend LokyBackend with 4 concurrent workers.\n",
      "[Parallel(n_jobs=4)]: Done  33 tasks      | elapsed:   33.5s\n",
      "[Parallel(n_jobs=4)]: Done 154 tasks      | elapsed:  2.0min\n",
      "[Parallel(n_jobs=4)]: Done 357 tasks      | elapsed:  5.0min\n",
      "[Parallel(n_jobs=4)]: Done 540 out of 540 | elapsed:  7.5min finished\n"
     ]
    },
    {
     "name": "stdout",
     "output_type": "stream",
     "text": [
      "model_10\n",
      "model_10\n",
      "CPU times: user 9.93 s, sys: 669 ms, total: 10.6 s\n",
      "Wall time: 7min 36s\n"
     ]
    },
    {
     "data": {
      "image/png": "[encoded data removed]",
      "text/plain": [
       "<Figure size 432x288 with 2 Axes>"
      ]
     },
     "metadata": {
      "needs_background": "light"
     },
     "output_type": "display_data"
    }
   ],
   "source": [
    "%%time\n",
    "#trying the svc model\n",
    "pipe = Pipeline([\n",
    "    ('tvec', TfidfVectorizer()),\n",
    "    ('svc', SVC())\n",
    "])\n",
    "pipe_params = {\n",
    "    'tvec__max_features' : [5000,6000,7000],\n",
    "    'tvec__max_df' : [.85,.95,1.0],\n",
    "    'tvec__min_df' : [1,2,4],\n",
    "    'svc__kernel':['linear', 'rbf'],\n",
    "    'svc__degree':[1, 2]}\n",
    "\n",
    "\n",
    "grid = GridSearchCV(estimator = pipe,\n",
    "                   param_grid = pipe_params,\n",
    "                   cv = 5,\n",
    "                   n_jobs = 4,\n",
    "                   verbose =2)\n",
    "\n",
    "grid.fit(X_train,y_train)\n",
    "print(f'model_{count}')\n",
    "\n",
    "model_df = scoring(X_test,y_test,grid,count)\n",
    "count+=1"
   ]
  },
  {
   "cell_type": "code",
   "execution_count": 20,
   "metadata": {},
   "outputs": [
    {
     "data": {
      "text/html": [
       "<div>\n",
       "<style scoped>\n",
       "    .dataframe tbody tr th:only-of-type {\n",
       "        vertical-align: middle;\n",
       "    }\n",
       "\n",
       "    .dataframe tbody tr th {\n",
       "        vertical-align: top;\n",
       "    }\n",
       "\n",
       "    .dataframe thead th {\n",
       "        text-align: right;\n",
       "    }\n",
       "</style>\n",
       "<table border=\"1\" class=\"dataframe\">\n",
       "  <thead>\n",
       "    <tr style=\"text-align: right;\">\n",
       "      <th></th>\n",
       "      <th>vectorizer__max_df</th>\n",
       "      <th>vectorizer__max_features</th>\n",
       "      <th>vectorizer__min_df</th>\n",
       "      <th>vectorizer__ngram_range</th>\n",
       "      <th>vectorizer__stop_words</th>\n",
       "      <th>score</th>\n",
       "      <th>specificity</th>\n",
       "      <th>sensitivity</th>\n",
       "      <th>misclassification_rate</th>\n",
       "      <th>misclassified_rows</th>\n",
       "      <th>...</th>\n",
       "      <th>tvec__min_df</th>\n",
       "      <th>tvec__ngram_range</th>\n",
       "      <th>tvec__stop_words</th>\n",
       "      <th>rf__ccp_alpha</th>\n",
       "      <th>rf__max_depth</th>\n",
       "      <th>rf__max_features</th>\n",
       "      <th>rf__n_estimators</th>\n",
       "      <th>svc__C</th>\n",
       "      <th>svc__degree</th>\n",
       "      <th>svc__kernel</th>\n",
       "    </tr>\n",
       "  </thead>\n",
       "  <tbody>\n",
       "    <tr>\n",
       "      <th>model_1</th>\n",
       "      <td>0.7</td>\n",
       "      <td>3000.0</td>\n",
       "      <td>1.0</td>\n",
       "      <td>(1, 1)</td>\n",
       "      <td>None</td>\n",
       "      <td>0.907612</td>\n",
       "      <td>92.55</td>\n",
       "      <td>89.09</td>\n",
       "      <td>9.18</td>\n",
       "      <td>([2, 12, 18, 52, 66, 67, 74, 76, 79, 82, 96, 1...</td>\n",
       "      <td>...</td>\n",
       "      <td>NaN</td>\n",
       "      <td>NaN</td>\n",
       "      <td>NaN</td>\n",
       "      <td>NaN</td>\n",
       "      <td>NaN</td>\n",
       "      <td>NaN</td>\n",
       "      <td>NaN</td>\n",
       "      <td>NaN</td>\n",
       "      <td>NaN</td>\n",
       "      <td>NaN</td>\n",
       "    </tr>\n",
       "    <tr>\n",
       "      <th>model_3</th>\n",
       "      <td>0.7</td>\n",
       "      <td>3000.0</td>\n",
       "      <td>1.0</td>\n",
       "      <td>(1, 1)</td>\n",
       "      <td>None</td>\n",
       "      <td>0.911194</td>\n",
       "      <td>88.61</td>\n",
       "      <td>94.48</td>\n",
       "      <td>8.45</td>\n",
       "      <td>([12, 52, 58, 66, 67, 76, 94, 110, 129, 132, 1...</td>\n",
       "      <td>...</td>\n",
       "      <td>NaN</td>\n",
       "      <td>NaN</td>\n",
       "      <td>NaN</td>\n",
       "      <td>NaN</td>\n",
       "      <td>NaN</td>\n",
       "      <td>NaN</td>\n",
       "      <td>NaN</td>\n",
       "      <td>NaN</td>\n",
       "      <td>NaN</td>\n",
       "      <td>NaN</td>\n",
       "    </tr>\n",
       "    <tr>\n",
       "      <th>model_7</th>\n",
       "      <td>0.8</td>\n",
       "      <td>4000.0</td>\n",
       "      <td>1.0</td>\n",
       "      <td>(1, 1)</td>\n",
       "      <td>english</td>\n",
       "      <td>0.908358</td>\n",
       "      <td>87.39</td>\n",
       "      <td>92.91</td>\n",
       "      <td>9.85</td>\n",
       "      <td>([36, 52, 58, 64, 67, 94, 100, 104, 132, 135, ...</td>\n",
       "      <td>...</td>\n",
       "      <td>NaN</td>\n",
       "      <td>NaN</td>\n",
       "      <td>NaN</td>\n",
       "      <td>NaN</td>\n",
       "      <td>NaN</td>\n",
       "      <td>NaN</td>\n",
       "      <td>NaN</td>\n",
       "      <td>1.0</td>\n",
       "      <td>NaN</td>\n",
       "      <td>NaN</td>\n",
       "    </tr>\n",
       "    <tr>\n",
       "      <th>model_9</th>\n",
       "      <td>0.8</td>\n",
       "      <td>3000.0</td>\n",
       "      <td>1.0</td>\n",
       "      <td>(1, 1)</td>\n",
       "      <td>None</td>\n",
       "      <td>0.908657</td>\n",
       "      <td>88.48</td>\n",
       "      <td>93.15</td>\n",
       "      <td>9.18</td>\n",
       "      <td>([58, 66, 67, 94, 104, 110, 129, 132, 136, 165...</td>\n",
       "      <td>...</td>\n",
       "      <td>NaN</td>\n",
       "      <td>NaN</td>\n",
       "      <td>NaN</td>\n",
       "      <td>NaN</td>\n",
       "      <td>NaN</td>\n",
       "      <td>NaN</td>\n",
       "      <td>NaN</td>\n",
       "      <td>NaN</td>\n",
       "      <td>1.0</td>\n",
       "      <td>linear</td>\n",
       "    </tr>\n",
       "    <tr>\n",
       "      <th>model_5</th>\n",
       "      <td>NaN</td>\n",
       "      <td>2000.0</td>\n",
       "      <td>NaN</td>\n",
       "      <td>NaN</td>\n",
       "      <td>NaN</td>\n",
       "      <td>0.836418</td>\n",
       "      <td>71.39</td>\n",
       "      <td>95.64</td>\n",
       "      <td>16.48</td>\n",
       "      <td>([5, 10, 12, 17, 18, 27, 36, 37, 40, 48, 51, 5...</td>\n",
       "      <td>...</td>\n",
       "      <td>NaN</td>\n",
       "      <td>NaN</td>\n",
       "      <td>NaN</td>\n",
       "      <td>0.0</td>\n",
       "      <td>7.0</td>\n",
       "      <td>auto</td>\n",
       "      <td>100.0</td>\n",
       "      <td>NaN</td>\n",
       "      <td>NaN</td>\n",
       "      <td>NaN</td>\n",
       "    </tr>\n",
       "    <tr>\n",
       "      <th>model_2</th>\n",
       "      <td>NaN</td>\n",
       "      <td>NaN</td>\n",
       "      <td>NaN</td>\n",
       "      <td>NaN</td>\n",
       "      <td>NaN</td>\n",
       "      <td>0.904328</td>\n",
       "      <td>91.39</td>\n",
       "      <td>88.91</td>\n",
       "      <td>9.85</td>\n",
       "      <td>([2, 12, 13, 18, 52, 66, 74, 76, 82, 96, 104, ...</td>\n",
       "      <td>...</td>\n",
       "      <td>1.0</td>\n",
       "      <td>(1, 2)</td>\n",
       "      <td>None</td>\n",
       "      <td>NaN</td>\n",
       "      <td>NaN</td>\n",
       "      <td>NaN</td>\n",
       "      <td>NaN</td>\n",
       "      <td>NaN</td>\n",
       "      <td>NaN</td>\n",
       "      <td>NaN</td>\n",
       "    </tr>\n",
       "    <tr>\n",
       "      <th>model_4</th>\n",
       "      <td>NaN</td>\n",
       "      <td>NaN</td>\n",
       "      <td>NaN</td>\n",
       "      <td>NaN</td>\n",
       "      <td>NaN</td>\n",
       "      <td>0.917313</td>\n",
       "      <td>88.36</td>\n",
       "      <td>93.88</td>\n",
       "      <td>8.88</td>\n",
       "      <td>([2, 10, 12, 44, 52, 58, 64, 67, 94, 100, 106,...</td>\n",
       "      <td>...</td>\n",
       "      <td>1.0</td>\n",
       "      <td>(1, 2)</td>\n",
       "      <td>english</td>\n",
       "      <td>NaN</td>\n",
       "      <td>NaN</td>\n",
       "      <td>NaN</td>\n",
       "      <td>NaN</td>\n",
       "      <td>NaN</td>\n",
       "      <td>NaN</td>\n",
       "      <td>NaN</td>\n",
       "    </tr>\n",
       "    <tr>\n",
       "      <th>model_6</th>\n",
       "      <td>NaN</td>\n",
       "      <td>NaN</td>\n",
       "      <td>NaN</td>\n",
       "      <td>NaN</td>\n",
       "      <td>NaN</td>\n",
       "      <td>0.834328</td>\n",
       "      <td>70.18</td>\n",
       "      <td>94.79</td>\n",
       "      <td>17.52</td>\n",
       "      <td>([5, 10, 12, 17, 18, 27, 36, 37, 40, 48, 51, 5...</td>\n",
       "      <td>...</td>\n",
       "      <td>2.0</td>\n",
       "      <td>NaN</td>\n",
       "      <td>NaN</td>\n",
       "      <td>0.0</td>\n",
       "      <td>7.0</td>\n",
       "      <td>auto</td>\n",
       "      <td>100.0</td>\n",
       "      <td>NaN</td>\n",
       "      <td>NaN</td>\n",
       "      <td>NaN</td>\n",
       "    </tr>\n",
       "    <tr>\n",
       "      <th>model_8</th>\n",
       "      <td>NaN</td>\n",
       "      <td>NaN</td>\n",
       "      <td>NaN</td>\n",
       "      <td>NaN</td>\n",
       "      <td>NaN</td>\n",
       "      <td>0.916269</td>\n",
       "      <td>90.73</td>\n",
       "      <td>91.64</td>\n",
       "      <td>8.82</td>\n",
       "      <td>([2, 58, 66, 67, 76, 94, 104, 110, 129, 132, 1...</td>\n",
       "      <td>...</td>\n",
       "      <td>2.0</td>\n",
       "      <td>NaN</td>\n",
       "      <td>NaN</td>\n",
       "      <td>NaN</td>\n",
       "      <td>NaN</td>\n",
       "      <td>NaN</td>\n",
       "      <td>NaN</td>\n",
       "      <td>1.0</td>\n",
       "      <td>NaN</td>\n",
       "      <td>NaN</td>\n",
       "    </tr>\n",
       "    <tr>\n",
       "      <th>model_10</th>\n",
       "      <td>NaN</td>\n",
       "      <td>NaN</td>\n",
       "      <td>NaN</td>\n",
       "      <td>NaN</td>\n",
       "      <td>NaN</td>\n",
       "      <td>0.923284</td>\n",
       "      <td>90.36</td>\n",
       "      <td>94.00</td>\n",
       "      <td>7.82</td>\n",
       "      <td>([0, 2, 12, 36, 52, 58, 66, 67, 76, 94, 104, 1...</td>\n",
       "      <td>...</td>\n",
       "      <td>1.0</td>\n",
       "      <td>NaN</td>\n",
       "      <td>NaN</td>\n",
       "      <td>NaN</td>\n",
       "      <td>NaN</td>\n",
       "      <td>NaN</td>\n",
       "      <td>NaN</td>\n",
       "      <td>NaN</td>\n",
       "      <td>1.0</td>\n",
       "      <td>rbf</td>\n",
       "    </tr>\n",
       "  </tbody>\n",
       "</table>\n",
       "<p>10 rows × 22 columns</p>\n",
       "</div>"
      ],
      "text/plain": [
       "          vectorizer__max_df  vectorizer__max_features  vectorizer__min_df  \\\n",
       "model_1                  0.7                    3000.0                 1.0   \n",
       "model_3                  0.7                    3000.0                 1.0   \n",
       "model_7                  0.8                    4000.0                 1.0   \n",
       "model_9                  0.8                    3000.0                 1.0   \n",
       "model_5                  NaN                    2000.0                 NaN   \n",
       "model_2                  NaN                       NaN                 NaN   \n",
       "model_4                  NaN                       NaN                 NaN   \n",
       "model_6                  NaN                       NaN                 NaN   \n",
       "model_8                  NaN                       NaN                 NaN   \n",
       "model_10                 NaN                       NaN                 NaN   \n",
       "\n",
       "         vectorizer__ngram_range vectorizer__stop_words     score  \\\n",
       "model_1                   (1, 1)                   None  0.907612   \n",
       "model_3                   (1, 1)                   None  0.911194   \n",
       "model_7                   (1, 1)                english  0.908358   \n",
       "model_9                   (1, 1)                   None  0.908657   \n",
       "model_5                      NaN                    NaN  0.836418   \n",
       "model_2                      NaN                    NaN  0.904328   \n",
       "model_4                      NaN                    NaN  0.917313   \n",
       "model_6                      NaN                    NaN  0.834328   \n",
       "model_8                      NaN                    NaN  0.916269   \n",
       "model_10                     NaN                    NaN  0.923284   \n",
       "\n",
       "          specificity  sensitivity  misclassification_rate  \\\n",
       "model_1         92.55        89.09                    9.18   \n",
       "model_3         88.61        94.48                    8.45   \n",
       "model_7         87.39        92.91                    9.85   \n",
       "model_9         88.48        93.15                    9.18   \n",
       "model_5         71.39        95.64                   16.48   \n",
       "model_2         91.39        88.91                    9.85   \n",
       "model_4         88.36        93.88                    8.88   \n",
       "model_6         70.18        94.79                   17.52   \n",
       "model_8         90.73        91.64                    8.82   \n",
       "model_10        90.36        94.00                    7.82   \n",
       "\n",
       "                                         misclassified_rows  ...  \\\n",
       "model_1   ([2, 12, 18, 52, 66, 67, 74, 76, 79, 82, 96, 1...  ...   \n",
       "model_3   ([12, 52, 58, 66, 67, 76, 94, 110, 129, 132, 1...  ...   \n",
       "model_7   ([36, 52, 58, 64, 67, 94, 100, 104, 132, 135, ...  ...   \n",
       "model_9   ([58, 66, 67, 94, 104, 110, 129, 132, 136, 165...  ...   \n",
       "model_5   ([5, 10, 12, 17, 18, 27, 36, 37, 40, 48, 51, 5...  ...   \n",
       "model_2   ([2, 12, 13, 18, 52, 66, 74, 76, 82, 96, 104, ...  ...   \n",
       "model_4   ([2, 10, 12, 44, 52, 58, 64, 67, 94, 100, 106,...  ...   \n",
       "model_6   ([5, 10, 12, 17, 18, 27, 36, 37, 40, 48, 51, 5...  ...   \n",
       "model_8   ([2, 58, 66, 67, 76, 94, 104, 110, 129, 132, 1...  ...   \n",
       "model_10  ([0, 2, 12, 36, 52, 58, 66, 67, 76, 94, 104, 1...  ...   \n",
       "\n",
       "          tvec__min_df  tvec__ngram_range  tvec__stop_words rf__ccp_alpha  \\\n",
       "model_1            NaN                NaN               NaN           NaN   \n",
       "model_3            NaN                NaN               NaN           NaN   \n",
       "model_7            NaN                NaN               NaN           NaN   \n",
       "model_9            NaN                NaN               NaN           NaN   \n",
       "model_5            NaN                NaN               NaN           0.0   \n",
       "model_2            1.0             (1, 2)              None           NaN   \n",
       "model_4            1.0             (1, 2)           english           NaN   \n",
       "model_6            2.0                NaN               NaN           0.0   \n",
       "model_8            2.0                NaN               NaN           NaN   \n",
       "model_10           1.0                NaN               NaN           NaN   \n",
       "\n",
       "         rf__max_depth  rf__max_features  rf__n_estimators svc__C  \\\n",
       "model_1            NaN               NaN               NaN    NaN   \n",
       "model_3            NaN               NaN               NaN    NaN   \n",
       "model_7            NaN               NaN               NaN    1.0   \n",
       "model_9            NaN               NaN               NaN    NaN   \n",
       "model_5            7.0              auto             100.0    NaN   \n",
       "model_2            NaN               NaN               NaN    NaN   \n",
       "model_4            NaN               NaN               NaN    NaN   \n",
       "model_6            7.0              auto             100.0    NaN   \n",
       "model_8            NaN               NaN               NaN    1.0   \n",
       "model_10           NaN               NaN               NaN    NaN   \n",
       "\n",
       "          svc__degree  svc__kernel  \n",
       "model_1           NaN          NaN  \n",
       "model_3           NaN          NaN  \n",
       "model_7           NaN          NaN  \n",
       "model_9           1.0       linear  \n",
       "model_5           NaN          NaN  \n",
       "model_2           NaN          NaN  \n",
       "model_4           NaN          NaN  \n",
       "model_6           NaN          NaN  \n",
       "model_8           NaN          NaN  \n",
       "model_10          1.0          rbf  \n",
       "\n",
       "[10 rows x 22 columns]"
      ]
     },
     "execution_count": 20,
     "metadata": {},
     "output_type": "execute_result"
    }
   ],
   "source": [
    "model_df"
   ]
  },
  {
   "cell_type": "code",
   "execution_count": 65,
   "metadata": {},
   "outputs": [],
   "source": [
    "model_df.to_csv('./data/misclass_and_model.csv',index_label = 'model_name')"
   ]
  }
 ],
 "metadata": {
  "kernelspec": {
   "display_name": "Python 3",
   "language": "python",
   "name": "python3"
  },
  "language_info": {
   "codemirror_mode": {
    "name": "ipython",
    "version": 3
   },
   "file_extension": ".py",
   "mimetype": "text/x-python",
   "name": "python",
   "nbconvert_exporter": "python",
   "pygments_lexer": "ipython3",
   "version": "3.8.3"
  }
 },
 "nbformat": 4,
 "nbformat_minor": 4
}
